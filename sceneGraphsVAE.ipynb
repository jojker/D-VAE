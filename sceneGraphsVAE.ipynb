{
  "nbformat": 4,
  "nbformat_minor": 0,
  "metadata": {
    "colab": {
      "name": "Untitled1.ipynb",
      "provenance": [],
      "authorship_tag": "ABX9TyOXisEqQO0++1nxmie3u912",
      "include_colab_link": true
    },
    "kernelspec": {
      "name": "python3",
      "display_name": "Python 3"
    },
    "language_info": {
      "name": "python"
    },
    "accelerator": "GPU"
  },
  "cells": [
    {
      "cell_type": "markdown",
      "metadata": {
        "id": "view-in-github",
        "colab_type": "text"
      },
      "source": [
        "<a href=\"https://colab.research.google.com/github/jojker/D-VAE/blob/master/sceneGraphsVAE.ipynb\" target=\"_parent\"><img src=\"https://colab.research.google.com/assets/colab-badge.svg\" alt=\"Open In Colab\"/></a>"
      ]
    },
    {
      "cell_type": "markdown",
      "metadata": {
        "id": "5peDTzbmB3ZF"
      },
      "source": [
        "# Running D-VAE with the files provided by the researchers\n",
        "\n",
        "This is the work of colleagues here at Washington University. A big problem we face in the Ponce Lab is that we are restricted to certain methods for generating images. Generating images in the Fourier Domain, or with Zernicke Polynomials does not work because the dimensions are too dependent. For example, in the Fourier Domain the values of higher and lower harmonics are essential, but the CMAES optimizer we use cannot learn these dependencies. In any case the best solution is to de-couple them by building an autoencoder or other parameterization that decouples them. Another issue we face is interpretability. Being able to specify the fourier components of images is neat, but does not immediately lead to content related insights because it is difficult to relate components to content. If we generated 3D scenes or scenes with explicit objects we could be able to relate the qualities of the objects to neural preferences. Generating scenes is harder than parameterizing with other spaces because the dimensionality is controlled by the number and complexity of objects so a simple autoencoder wont do. That's where graph autoencoders come in. 3D scenes can be encoded using graph structures and graph autoencoders can make graphs with a variable number of nodes, despite the latent space of the autoencoder having a fixed dimensionality. So this lets us generate 3D scenes (at long last!).\n",
        "\n",
        "In this script we just get the graph autoencoder working. Later we test it with the kind of graph structures we will use for 3D scene generation. \n",
        "\n",
        "\n",
        "> M. Zhang, S. Jiang, Z. Cui, R. Garnett, Y. Chen, D-VAE: A Variational Autoencoder for Directed Acyclic Graphs, Advances in Neural Information Processing Systems (NeurIPS-19). [\\[PDF\\]](https://arxiv.org/pdf/1904.11088.pdf)\n",
        "\n",
        "The link to my fork of the repo is [\\[here\\]](https://github.com/jojker/D-VAE)."
      ]
    },
    {
      "cell_type": "code",
      "metadata": {
        "colab": {
          "base_uri": "https://localhost:8080/",
          "height": 35
        },
        "id": "6u766-PReQcz",
        "outputId": "ad16026c-cb3b-4d78-e7ac-f834b5178bd6"
      },
      "source": [
        "\"\"\"%env PYTHONPATH=\"\"\""
      ],
      "execution_count": 1,
      "outputs": [
        {
          "output_type": "execute_result",
          "data": {
            "application/vnd.google.colaboratory.intrinsic+json": {
              "type": "string"
            },
            "text/plain": [
              "'%env PYTHONPATH='"
            ]
          },
          "metadata": {
            "tags": []
          },
          "execution_count": 1
        }
      ]
    },
    {
      "cell_type": "code",
      "metadata": {
        "colab": {
          "base_uri": "https://localhost:8080/",
          "height": 52
        },
        "id": "AHsls5HDMak6",
        "outputId": "6fb8cb1a-9ddf-41e7-f39a-2df6755b0d58"
      },
      "source": [
        "\"\"\"%%bash\n",
        "MINICONDA_INSTALLER_SCRIPT=Miniconda3-4.5.4-Linux-x86_64.sh\n",
        "MINICONDA_PREFIX=/usr/local\n",
        "wget https://repo.continuum.io/miniconda/$MINICONDA_INSTALLER_SCRIPT\n",
        "chmod +x $MINICONDA_INSTALLER_SCRIPT\n",
        "./$MINICONDA_INSTALLER_SCRIPT -b -f -p $MINICONDA_PREFIX\"\"\""
      ],
      "execution_count": 2,
      "outputs": [
        {
          "output_type": "execute_result",
          "data": {
            "application/vnd.google.colaboratory.intrinsic+json": {
              "type": "string"
            },
            "text/plain": [
              "'%%bash\\nMINICONDA_INSTALLER_SCRIPT=Miniconda3-4.5.4-Linux-x86_64.sh\\nMINICONDA_PREFIX=/usr/local\\nwget https://repo.continuum.io/miniconda/$MINICONDA_INSTALLER_SCRIPT\\nchmod +x $MINICONDA_INSTALLER_SCRIPT\\n./$MINICONDA_INSTALLER_SCRIPT -b -f -p $MINICONDA_PREFIX'"
            ]
          },
          "metadata": {
            "tags": []
          },
          "execution_count": 2
        }
      ]
    },
    {
      "cell_type": "code",
      "metadata": {
        "id": "3vQkb2Ake7xq"
      },
      "source": [
        "!pip install -q condacolab\n",
        "import condacolab"
      ],
      "execution_count": 3,
      "outputs": []
    },
    {
      "cell_type": "code",
      "metadata": {
        "colab": {
          "base_uri": "https://localhost:8080/"
        },
        "id": "yAN8RgCXfF7c",
        "outputId": "e2f2e64c-97b2-42a9-8bf8-4204585772c2"
      },
      "source": [
        "condacolab.install_miniconda()"
      ],
      "execution_count": 4,
      "outputs": [
        {
          "output_type": "stream",
          "text": [
            "⏬ Downloading https://repo.anaconda.com/miniconda/Miniconda3-py37_4.9.2-Linux-x86_64.sh...\n",
            "📦 Installing...\n",
            "📌 Adjusting configuration...\n",
            "🩹 Patching environment...\n",
            "⏲ Done in 0:00:32\n",
            "🔁 Restarting kernel...\n"
          ],
          "name": "stdout"
        }
      ]
    },
    {
      "cell_type": "code",
      "metadata": {
        "colab": {
          "base_uri": "https://localhost:8080/"
        },
        "id": "1e2thUbkP2MS",
        "outputId": "a1a77b54-9a97-4cde-ed40-8a464ddfb22c"
      },
      "source": [
        "!which conda\n",
        "!python --version"
      ],
      "execution_count": 5,
      "outputs": [
        {
          "output_type": "stream",
          "text": [
            "/usr/local/bin/conda\n",
            "Python 3.7.9\n"
          ],
          "name": "stdout"
        }
      ]
    },
    {
      "cell_type": "code",
      "metadata": {
        "colab": {
          "base_uri": "https://localhost:8080/"
        },
        "id": "ddC5cT1CBz0w",
        "outputId": "0f267d6b-66c3-41f6-e23d-97158877b2ff"
      },
      "source": [
        "!conda install -y -c conda-forge PyTorch\n",
        "!conda install - y graphviz\n",
        "!conda install -y pygraphviz\n",
        "!conda install -y -c conda-forge python-igraph\n",
        "!git clone 'https://github.com/jojker/D-VAE'"
      ],
      "execution_count": 6,
      "outputs": [
        {
          "output_type": "stream",
          "text": [
            "Collecting package metadata (current_repodata.json): - \b\b\\ \b\b| \b\b/ \b\b- \b\b\\ \b\b| \b\b/ \b\b- \b\b\\ \b\b| \b\b/ \b\b- \b\b\\ \b\b| \b\b/ \b\b- \b\b\\ \b\b| \b\b/ \b\b- \b\b\\ \b\b| \b\b/ \b\b- \b\b\\ \b\b| \b\b/ \b\b- \b\b\\ \b\b| \b\b/ \b\b- \b\b\\ \b\b| \b\b/ \b\b- \b\b\\ \b\b| \b\b/ \b\b- \b\b\\ \b\b| \b\b/ \b\b- \b\b\\ \b\b| \b\b/ \b\b- \b\b\\ \b\b| \b\b/ \b\b- \b\b\\ \b\b| \b\b/ \b\b- \b\b\\ \b\b| \b\b/ \b\b- \b\b\\ \b\b| \b\b/ \b\b- \b\b\\ \b\b| \b\b/ \b\b- \b\b\\ \b\b| \b\b/ \b\b- \b\b\\ \b\b| \b\b/ \b\b- \b\b\\ \b\b| \b\b/ \b\b- \b\b\\ \b\b| \b\b/ \b\b- \b\b\\ \b\b| \b\b/ \b\b- \b\b\\ \b\b| \b\b/ \b\b- \b\b\\ \b\b| \b\b/ \b\b- \b\b\\ \b\b| \b\b/ \b\b- \b\b\\ \b\bdone\n",
            "Solving environment: / \b\b- \b\b\\ \b\b| \b\b/ \b\b- \b\b\\ \b\b| \b\b/ \b\b- \b\b\\ \b\b| \b\b/ \b\b- \b\b\\ \b\b| \b\b/ \b\b- \b\b\\ \b\b| \b\b/ \b\b- \b\b\\ \b\b| \b\b/ \b\b- \b\b\\ \b\b| \b\b/ \b\b- \b\b\\ \b\b| \b\bdone\n",
            "\n",
            "\n",
            "==> WARNING: A newer version of conda exists. <==\n",
            "  current version: 4.9.2\n",
            "  latest version: 4.10.1\n",
            "\n",
            "Please update conda by running\n",
            "\n",
            "    $ conda update -n base -c defaults conda\n",
            "\n",
            "\n",
            "\n",
            "## Package Plan ##\n",
            "\n",
            "  environment location: /usr/local\n",
            "\n",
            "  added / updated specs:\n",
            "    - pytorch\n",
            "\n",
            "\n",
            "The following packages will be downloaded:\n",
            "\n",
            "    package                    |            build\n",
            "    ---------------------------|-----------------\n",
            "    _pytorch_select-0.1        |            cpu_0           3 KB\n",
            "    blas-1.0                   |              mkl           6 KB\n",
            "    ca-certificates-2021.5.30  |       ha878542_0         136 KB  conda-forge\n",
            "    certifi-2021.5.30          |   py37h89c1867_0         141 KB  conda-forge\n",
            "    conda-4.10.1               |   py37h89c1867_0         3.1 MB  conda-forge\n",
            "    cudatoolkit-11.0.221       |       h6bb024c_0       622.9 MB\n",
            "    intel-openmp-2019.4        |              243         729 KB\n",
            "    libblas-3.9.0              |1_h6e990d7_netlib         176 KB  conda-forge\n",
            "    libcblas-3.9.0             |3_h893e4fe_netlib          54 KB  conda-forge\n",
            "    libgfortran-ng-7.5.0       |      h14aa051_19          22 KB  conda-forge\n",
            "    libgfortran4-7.5.0         |      h14aa051_19         1.3 MB  conda-forge\n",
            "    liblapack-3.9.0            |3_h893e4fe_netlib         2.9 MB  conda-forge\n",
            "    libmklml-2019.0.5          |                0        22.3 MB\n",
            "    mkl-2020.2                 |              256       138.3 MB\n",
            "    ninja-1.10.2               |       hff7bd54_1         1.4 MB\n",
            "    numpy-1.19.4               |   py37h7e9df27_1         5.2 MB  conda-forge\n",
            "    openssl-1.1.1k             |       h27cfd23_0         2.5 MB\n",
            "    python_abi-3.7             |          1_cp37m           4 KB  conda-forge\n",
            "    pytorch-1.7.1              |cpu_py37h6a09485_0        31.6 MB\n",
            "    typing-extensions-3.10.0.0 |       hd8ed1ab_0           8 KB  conda-forge\n",
            "    typing_extensions-3.10.0.0 |     pyha770c72_0          28 KB  conda-forge\n",
            "    ------------------------------------------------------------\n",
            "                                           Total:       832.8 MB\n",
            "\n",
            "The following NEW packages will be INSTALLED:\n",
            "\n",
            "  _pytorch_select    pkgs/main/linux-64::_pytorch_select-0.1-cpu_0\n",
            "  blas               pkgs/main/linux-64::blas-1.0-mkl\n",
            "  cudatoolkit        pkgs/main/linux-64::cudatoolkit-11.0.221-h6bb024c_0\n",
            "  intel-openmp       pkgs/main/linux-64::intel-openmp-2019.4-243\n",
            "  libblas            conda-forge/linux-64::libblas-3.9.0-1_h6e990d7_netlib\n",
            "  libcblas           conda-forge/linux-64::libcblas-3.9.0-3_h893e4fe_netlib\n",
            "  libgfortran-ng     conda-forge/linux-64::libgfortran-ng-7.5.0-h14aa051_19\n",
            "  libgfortran4       conda-forge/linux-64::libgfortran4-7.5.0-h14aa051_19\n",
            "  liblapack          conda-forge/linux-64::liblapack-3.9.0-3_h893e4fe_netlib\n",
            "  libmklml           pkgs/main/linux-64::libmklml-2019.0.5-0\n",
            "  mkl                pkgs/main/linux-64::mkl-2020.2-256\n",
            "  ninja              pkgs/main/linux-64::ninja-1.10.2-hff7bd54_1\n",
            "  numpy              conda-forge/linux-64::numpy-1.19.4-py37h7e9df27_1\n",
            "  python_abi         conda-forge/linux-64::python_abi-3.7-1_cp37m\n",
            "  pytorch            pkgs/main/linux-64::pytorch-1.7.1-cpu_py37h6a09485_0\n",
            "  typing-extensions  conda-forge/noarch::typing-extensions-3.10.0.0-hd8ed1ab_0\n",
            "  typing_extensions  conda-forge/noarch::typing_extensions-3.10.0.0-pyha770c72_0\n",
            "\n",
            "The following packages will be UPDATED:\n",
            "\n",
            "  ca-certificates    pkgs/main::ca-certificates-2020.10.14~ --> conda-forge::ca-certificates-2021.5.30-ha878542_0\n",
            "  certifi            pkgs/main/noarch::certifi-2020.6.20-p~ --> conda-forge/linux-64::certifi-2021.5.30-py37h89c1867_0\n",
            "  conda               pkgs/main::conda-4.9.2-py37h06a4308_0 --> conda-forge::conda-4.10.1-py37h89c1867_0\n",
            "  openssl                                 1.1.1h-h7b6447c_0 --> 1.1.1k-h27cfd23_0\n",
            "\n",
            "\n",
            "\n",
            "Downloading and Extracting Packages\n",
            "typing-extensions-3. | 8 KB      | : 100% 1.0/1 [00:00<00:00,  7.86it/s]\n",
            "libblas-3.9.0        | 176 KB    | : 100% 1.0/1 [00:00<00:00, 11.46it/s]\n",
            "typing_extensions-3. | 28 KB     | : 100% 1.0/1 [00:00<00:00, 22.49it/s]\n",
            "libgfortran4-7.5.0   | 1.3 MB    | : 100% 1.0/1 [00:00<00:00,  3.32it/s]\n",
            "_pytorch_select-0.1  | 3 KB      | : 100% 1.0/1 [00:00<00:00,  8.15it/s]\n",
            "numpy-1.19.4         | 5.2 MB    | : 100% 1.0/1 [00:01<00:00,  1.20s/it]\n",
            "blas-1.0             | 6 KB      | : 100% 1.0/1 [00:00<00:00, 12.22it/s]\n",
            "ninja-1.10.2         | 1.4 MB    | : 100% 1.0/1 [00:00<00:00,  8.29it/s]\n",
            "pytorch-1.7.1        | 31.6 MB   | : 100% 1.0/1 [00:03<00:00,  3.09s/it]               \n",
            "ca-certificates-2021 | 136 KB    | : 100% 1.0/1 [00:00<00:00, 12.17it/s]\n",
            "cudatoolkit-11.0.221 | 622.9 MB  | : 100% 1.0/1 [00:51<00:00, 51.43s/it]              \n",
            "mkl-2020.2           | 138.3 MB  | : 100% 1.0/1 [00:27<00:00, 27.05s/it]               \n",
            "openssl-1.1.1k       | 2.5 MB    | : 100% 1.0/1 [00:00<00:00,  3.65it/s]\n",
            "libmklml-2019.0.5    | 22.3 MB   | : 100% 1.0/1 [00:06<00:00,  6.09s/it]\n",
            "libgfortran-ng-7.5.0 | 22 KB     | : 100% 1.0/1 [00:00<00:00, 10.10it/s]\n",
            "liblapack-3.9.0      | 2.9 MB    | : 100% 1.0/1 [00:00<00:00,  1.56it/s]\n",
            "python_abi-3.7       | 4 KB      | : 100% 1.0/1 [00:00<00:00, 21.58it/s]\n",
            "conda-4.10.1         | 3.1 MB    | : 100% 1.0/1 [00:00<00:00,  1.32it/s]\n",
            "libcblas-3.9.0       | 54 KB     | : 100% 1.0/1 [00:00<00:00, 14.71it/s]\n",
            "intel-openmp-2019.4  | 729 KB    | : 100% 1.0/1 [00:00<00:00,  8.77it/s]\n",
            "certifi-2021.5.30    | 141 KB    | : 100% 1.0/1 [00:00<00:00, 13.69it/s]\n",
            "Preparing transaction: - \b\b\\ \b\b| \b\bdone\n",
            "Verifying transaction: - \b\b\\ \b\b| \b\b/ \b\b- \b\b\\ \b\b| \b\b/ \b\bdone\n",
            "Executing transaction: \\ \b\b| \b\b/ \b\b- \b\b\\ \b\b| \b\b/ \b\b- \b\b\\ \b\b| \b\b/ \b\b- \b\b\\ \b\b| \b\b/ \b\b- \b\b\\ \b\b| \b\b/ \b\b- \b\b\\ \b\b| \b\b/ \b\b- \b\b\\ \b\b| \b\b/ \b\b- \b\b\\ \b\b| \b\b/ \b\b- \b\b\\ \b\b| \b\b/ \b\b- \b\b\\ \b\b| \b\b/ \b\b- \b\b\\ \b\b| \b\b/ \b\b- \b\b\\ \b\b| \b\b/ \b\b- \b\b\\ \b\b| \b\b/ \b\b- \b\b\\ \b\b| \b\b/ \b\b- \b\b\\ \b\b| \b\b/ \b\b- \b\b\\ \b\b| \b\b/ \b\b- \b\b\\ \b\b| \b\b/ \b\b- \b\b\\ \b\b| \b\b/ \b\b- \b\b\\ \b\b| \b\b/ \b\b- \b\b\\ \b\b| \b\b/ \b\b- \b\b\\ \b\b| \b\b/ \b\b- \b\b\\ \b\b| \b\b/ \b\b- \b\b\\ \b\b| \b\b/ \b\b- \b\b\\ \b\b| \b\b/ \b\b- \b\b\\ \b\b| \b\b/ \b\b- \b\b\\ \b\b| \b\b/ \b\b- \b\b\\ \b\b| \b\b/ \b\b- \b\b\\ \b\b| \b\b/ \b\b- \b\b\\ \b\b| \b\b/ \b\b- \b\b\\ \b\b| \b\b/ \b\b- \b\b\\ \b\b| \b\b/ \b\b- \b\b\\ \b\b| \b\b/ \b\b- \b\b\\ \b\b| \b\b/ \b\b- \b\b\\ \b\b| \b\b/ \b\b- \b\b\\ \b\b| \b\b/ \b\b- \b\b\\ \b\b| \b\b/ \b\b- \b\b\\ \b\b| \b\b/ \b\b- \b\b\\ \b\b| \b\b/ \b\b- \b\b\\ \b\b| \b\b/ \b\b- \b\b\\ \b\b| \b\b/ \b\b- \b\b\\ \b\b| \b\b/ \b\b- \b\b\\ \b\b| \b\b/ \b\b- \b\b\\ \b\b| \b\b/ \b\b- \b\b\\ \b\b| \b\b/ \b\b- \b\b\\ \b\b| \b\b/ \b\b- \b\b\\ \b\b| \b\b/ \b\b- \b\b\\ \b\b| \b\b/ \b\b- \b\b\\ \b\b| \b\b/ \b\b- \b\b\\ \b\b| \b\b/ \b\b- \b\b\\ \b\b| \b\b/ \b\b- \b\b\\ \b\b| \b\b/ \b\b- \b\b\\ \b\b| \b\b/ \b\b- \b\b\\ \b\b| \b\b/ \b\b- \b\b\\ \b\b| \b\b/ \b\b- \b\b\\ \b\b| \b\b/ \b\b- \b\b\\ \b\b| \b\b/ \b\b- \b\b\\ \b\b| \b\b/ \b\b- \b\b\\ \b\b| \b\b/ \b\b- \b\b\\ \b\b| \b\b/ \b\b- \b\b\\ \b\b| \b\b/ \b\b- \b\b\\ \b\b| \b\b/ \b\b- \b\b\\ \b\b| \b\b/ \b\b- \b\b\\ \b\b| \b\b/ \b\b- \b\b\\ \b\b| \b\b/ \b\b- \b\b\\ \b\b| \b\b/ \b\b- \b\b\\ \b\b| \b\b/ \b\b- \b\b\\ \b\b| \b\b/ \b\b- \b\b\\ \b\b| \b\b/ \b\b- \b\b\\ \b\b| \b\b/ \b\b- \b\b\\ \b\b| \b\b/ \b\b- \b\b\\ \b\b| \b\b/ \b\b- \b\b\\ \b\b| \b\b/ \b\b- \b\b\\ \b\b| \b\b/ \b\b- \b\b\\ \b\b| \b\b/ \b\b- \b\b\\ \b\b| \b\b/ \b\b- \b\b\\ \b\b| \b\b/ \b\b- \b\b\\ \b\b| \b\b/ \b\b- \b\b\\ \b\b| \b\b/ \b\b- \b\b\\ \b\b| \b\b/ \b\b- \b\b\\ \b\b| \b\b/ \b\b- \b\b\\ \b\b| \b\b/ \b\b- \b\b\\ \b\b| \b\b/ \b\b- \b\b\\ \b\b| \b\b/ \b\b- \b\b\\ \b\b| \b\b/ \b\b- \b\b\\ \b\b| \b\b/ \b\b- \b\b\\ \b\b| \b\b/ \b\b- \b\b\\ \b\b| \b\b/ \b\b- \b\b\\ \b\b| \b\b/ \b\b- \b\b\\ \b\b| \b\b/ \b\b- \b\b\\ \b\b| \b\b/ \b\b- \b\b\\ \b\b| \b\b/ \b\b- \b\b\\ \b\b| \b\b/ \b\b- \b\b\\ \b\b| \b\b/ \b\b- \b\b\\ \b\b| \b\b/ \b\b- \b\b\\ \b\b| \b\b/ \b\b- \b\b\\ \b\b| \b\b/ \b\b- \b\b\\ \b\b| \b\b/ \b\b- \b\b\\ \b\b| \b\b/ \b\b- \b\b\\ \b\b| \b\b/ \b\b- \b\b\\ \b\b| \b\b/ \b\b- \b\b\\ \b\b| \b\b/ \b\b- \b\b\\ \b\b| \b\b/ \b\b- \b\b\\ \b\b| \b\b/ \b\b- \b\b\\ \b\b| \b\b/ \b\b- \b\b\\ \b\b| \b\b/ \b\b- \b\b\\ \b\b| \b\b/ \b\b- \b\b\\ \b\b| \b\b/ \b\b- \b\b\\ \b\b| \b\b/ \b\b- \b\b\\ \b\b| \b\b/ \b\b- \b\b\\ \b\b| \b\b/ \b\b- \b\b\\ \b\b| \b\b/ \b\b- \b\b\\ \b\b| \b\b/ \b\b- \b\b\\ \b\b| \b\b/ \b\b- \b\b\\ \b\b| \b\b/ \b\b- \b\b\\ \b\b| \b\b/ \b\b- \b\b\\ \b\b| \b\b/ \b\b- \b\b\\ \b\b| \b\b/ \b\b- \b\b\\ \b\b| \b\b/ \b\b- \b\b\\ \b\b| \b\b/ \b\b- \b\b\\ \b\b| \b\b/ \b\b- \b\b\\ \b\b| \b\b/ By downloading and using the CUDA Toolkit conda packages, you accept the terms and conditions of the CUDA End User License Agreement (EULA): https://docs.nvidia.com/cuda/eula/index.html\n",
            "\n",
            "\b\b- \b\b\\ \b\b| \b\b/ \b\b- \b\b\\ \b\b| \b\bdone\n",
            "Collecting package metadata (current_repodata.json): - \b\b\\ \b\b| \b\b/ \b\b- \b\b\\ \b\b| \b\b/ \b\bdone\n",
            "Solving environment: \\ \b\bfailed with initial frozen solve. Retrying with flexible solve.\n",
            "Collecting package metadata (repodata.json): / \b\b- \b\b\\ \b\b| \b\b/ \b\b- \b\b\\ \b\b| \b\b/ \b\b- \b\b\\ \b\b| \b\b/ \b\b- \b\b\\ \b\b| \b\b/ \b\b- \b\b\\ \b\b| \b\b/ \b\b- \b\b\\ \b\b| \b\b/ \b\b- \b\b\\ \b\b| \b\b/ \b\b- \b\b\\ \b\b| \b\b/ \b\b- \b\b\\ \b\b| \b\b/ \b\b- \b\b\\ \b\b| \b\b/ \b\b- \b\b\\ \b\b| \b\b/ \b\b- \b\b\\ \b\b| \b\b/ \b\b- \b\b\\ \b\b| \b\bdone\n",
            "Solving environment: - \b\bfailed with initial frozen solve. Retrying with flexible solve.\n",
            "\n",
            "PackagesNotFoundError: The following packages are not available from current channels:\n",
            "\n",
            "  - y\n",
            "  - -\n",
            "\n",
            "Current channels:\n",
            "\n",
            "  - https://repo.anaconda.com/pkgs/main/linux-64\n",
            "  - https://repo.anaconda.com/pkgs/main/noarch\n",
            "  - https://repo.anaconda.com/pkgs/r/linux-64\n",
            "  - https://repo.anaconda.com/pkgs/r/noarch\n",
            "\n",
            "To search for alternate channels that may provide the conda package you're\n",
            "looking for, navigate to\n",
            "\n",
            "    https://anaconda.org\n",
            "\n",
            "and use the search bar at the top of the page.\n",
            "\n",
            "\n",
            "Collecting package metadata (current_repodata.json): - \b\b\\ \b\b| \b\b/ \b\b- \b\b\\ \b\b| \b\bdone\n",
            "Solving environment: - \b\b\\ \b\b| \b\b/ \b\b- \b\b\\ \b\b| \b\b/ \b\b- \b\b\\ \b\b| \b\b/ \b\b- \b\b\\ \b\b| \b\b/ \b\b- \b\b\\ \b\bfailed with initial frozen solve. Retrying with flexible solve.\n",
            "Solving environment: / \b\b- \b\b\\ \b\b| \b\b/ \b\b- \b\b\\ \b\b| \b\b/ \b\b- \b\b\\ \b\b| \b\b/ \b\b- \b\b\\ \b\b| \b\b/ \b\b- \b\bfailed with repodata from current_repodata.json, will retry with next repodata source.\n",
            "Collecting package metadata (repodata.json): | \b\b/ \b\b- \b\b\\ \b\b| \b\b/ \b\b- \b\b\\ \b\b| \b\b/ \b\b- \b\b\\ \b\b| \b\b/ \b\b- \b\bdone\n",
            "Solving environment: | \b\b/ \b\b- \b\b\\ \b\b| \b\b/ \b\b- \b\b\\ \b\b| \b\b/ \b\b- \b\b\\ \b\b| \b\b/ \b\b- \b\b\\ \b\b| \b\b/ \b\b- \b\b\\ \b\bdone\n",
            "\n",
            "## Package Plan ##\n",
            "\n",
            "  environment location: /usr/local\n",
            "\n",
            "  added / updated specs:\n",
            "    - pygraphviz\n",
            "\n",
            "\n",
            "The following packages will be downloaded:\n",
            "\n",
            "    package                    |            build\n",
            "    ---------------------------|-----------------\n",
            "    ca-certificates-2021.5.25  |       h06a4308_1         112 KB\n",
            "    cairo-1.14.12              |       h7636065_2         905 KB\n",
            "    certifi-2021.5.30          |   py37h06a4308_0         139 KB\n",
            "    conda-4.10.1               |   py37h06a4308_1         2.9 MB\n",
            "    expat-2.4.1                |       h2531618_2         168 KB\n",
            "    fontconfig-2.12.6          |       h49f89f6_0         221 KB\n",
            "    freetype-2.8               |       hab7d2ae_1         542 KB\n",
            "    fribidi-1.0.10             |       h7b6447c_0         103 KB\n",
            "    glib-2.68.2                |       h36276a3_0         3.0 MB\n",
            "    graphite2-1.3.14           |       h23475e2_0          99 KB\n",
            "    graphviz-2.40.1            |       h25d223c_0         6.5 MB\n",
            "    harfbuzz-1.7.6             |       h5f0a787_1         474 KB\n",
            "    icu-58.2                   |       he6710b0_3        10.5 MB\n",
            "    jpeg-9b                    |       h024ee3a_2         214 KB\n",
            "    libpng-1.6.37              |       hbc83047_0         278 KB\n",
            "    libtiff-4.2.0              |       h85742a9_0         502 KB\n",
            "    libtool-2.4.6              |    h7b6447c_1005         394 KB\n",
            "    libwebp-base-1.2.0         |       h27cfd23_0         437 KB\n",
            "    libxcb-1.14                |       h7b6447c_0         505 KB\n",
            "    libxml2-2.9.10             |       hb55368b_3         1.2 MB\n",
            "    lz4-c-1.9.3                |       h2531618_0         186 KB\n",
            "    pango-1.42.0               |       h377f3fa_0         458 KB\n",
            "    pcre-8.44                  |       he6710b0_0         212 KB\n",
            "    pixman-0.40.0              |       h7b6447c_0         370 KB\n",
            "    pygraphviz-1.3             |   py37h14c3975_1         112 KB\n",
            "    zstd-1.4.9                 |       haebb681_0         480 KB\n",
            "    ------------------------------------------------------------\n",
            "                                           Total:        30.7 MB\n",
            "\n",
            "The following NEW packages will be INSTALLED:\n",
            "\n",
            "  cairo              pkgs/main/linux-64::cairo-1.14.12-h7636065_2\n",
            "  expat              pkgs/main/linux-64::expat-2.4.1-h2531618_2\n",
            "  fontconfig         pkgs/main/linux-64::fontconfig-2.12.6-h49f89f6_0\n",
            "  freetype           pkgs/main/linux-64::freetype-2.8-hab7d2ae_1\n",
            "  fribidi            pkgs/main/linux-64::fribidi-1.0.10-h7b6447c_0\n",
            "  glib               pkgs/main/linux-64::glib-2.68.2-h36276a3_0\n",
            "  graphite2          pkgs/main/linux-64::graphite2-1.3.14-h23475e2_0\n",
            "  graphviz           pkgs/main/linux-64::graphviz-2.40.1-h25d223c_0\n",
            "  harfbuzz           pkgs/main/linux-64::harfbuzz-1.7.6-h5f0a787_1\n",
            "  icu                pkgs/main/linux-64::icu-58.2-he6710b0_3\n",
            "  jpeg               pkgs/main/linux-64::jpeg-9b-h024ee3a_2\n",
            "  libpng             pkgs/main/linux-64::libpng-1.6.37-hbc83047_0\n",
            "  libtiff            pkgs/main/linux-64::libtiff-4.2.0-h85742a9_0\n",
            "  libtool            pkgs/main/linux-64::libtool-2.4.6-h7b6447c_1005\n",
            "  libwebp-base       pkgs/main/linux-64::libwebp-base-1.2.0-h27cfd23_0\n",
            "  libxcb             pkgs/main/linux-64::libxcb-1.14-h7b6447c_0\n",
            "  libxml2            pkgs/main/linux-64::libxml2-2.9.10-hb55368b_3\n",
            "  lz4-c              pkgs/main/linux-64::lz4-c-1.9.3-h2531618_0\n",
            "  pango              pkgs/main/linux-64::pango-1.42.0-h377f3fa_0\n",
            "  pcre               pkgs/main/linux-64::pcre-8.44-he6710b0_0\n",
            "  pixman             pkgs/main/linux-64::pixman-0.40.0-h7b6447c_0\n",
            "  pygraphviz         pkgs/main/linux-64::pygraphviz-1.3-py37h14c3975_1\n",
            "  zstd               pkgs/main/linux-64::zstd-1.4.9-haebb681_0\n",
            "\n",
            "The following packages will be UPDATED:\n",
            "\n",
            "  conda              conda-forge::conda-4.10.1-py37h89c186~ --> pkgs/main::conda-4.10.1-py37h06a4308_1\n",
            "\n",
            "The following packages will be SUPERSEDED by a higher-priority channel:\n",
            "\n",
            "  ca-certificates    conda-forge::ca-certificates-2021.5.3~ --> pkgs/main::ca-certificates-2021.5.25-h06a4308_1\n",
            "  certifi            conda-forge::certifi-2021.5.30-py37h8~ --> pkgs/main::certifi-2021.5.30-py37h06a4308_0\n",
            "\n",
            "\n",
            "\n",
            "Downloading and Extracting Packages\n",
            "pcre-8.44            | 212 KB    | : 100% 1.0/1 [00:00<00:00,  7.42it/s]\n",
            "ca-certificates-2021 | 112 KB    | : 100% 1.0/1 [00:00<00:00, 16.99it/s]\n",
            "jpeg-9b              | 214 KB    | : 100% 1.0/1 [00:00<00:00, 14.07it/s]\n",
            "conda-4.10.1         | 2.9 MB    | : 100% 1.0/1 [00:00<00:00,  3.72it/s]\n",
            "harfbuzz-1.7.6       | 474 KB    | : 100% 1.0/1 [00:00<00:00, 10.86it/s]\n",
            "fribidi-1.0.10       | 103 KB    | : 100% 1.0/1 [00:00<00:00, 14.53it/s]\n",
            "zstd-1.4.9           | 480 KB    | : 100% 1.0/1 [00:00<00:00,  8.63it/s]\n",
            "fontconfig-2.12.6    | 221 KB    | : 100% 1.0/1 [00:00<00:00, 11.18it/s]\n",
            "libtool-2.4.6        | 394 KB    | : 100% 1.0/1 [00:00<00:00, 11.79it/s]\n",
            "libxml2-2.9.10       | 1.2 MB    | : 100% 1.0/1 [00:00<00:00,  8.44it/s]\n",
            "libtiff-4.2.0        | 502 KB    | : 100% 1.0/1 [00:00<00:00, 11.87it/s]\n",
            "graphviz-2.40.1      | 6.5 MB    | : 100% 1.0/1 [00:00<00:00,  3.10it/s]\n",
            "cairo-1.14.12        | 905 KB    | : 100% 1.0/1 [00:00<00:00,  6.73it/s]\n",
            "expat-2.4.1          | 168 KB    | : 100% 1.0/1 [00:00<00:00, 13.38it/s]\n",
            "certifi-2021.5.30    | 139 KB    | : 100% 1.0/1 [00:00<00:00, 15.31it/s]\n",
            "freetype-2.8         | 542 KB    | : 100% 1.0/1 [00:00<00:00,  9.61it/s]\n",
            "graphite2-1.3.14     | 99 KB     | : 100% 1.0/1 [00:00<00:00, 16.07it/s]\n",
            "libwebp-base-1.2.0   | 437 KB    | : 100% 1.0/1 [00:00<00:00, 12.19it/s]\n",
            "glib-2.68.2          | 3.0 MB    | : 100% 1.0/1 [00:00<00:00,  3.85it/s]\n",
            "pango-1.42.0         | 458 KB    | : 100% 1.0/1 [00:00<00:00, 11.19it/s]\n",
            "libpng-1.6.37        | 278 KB    | : 100% 1.0/1 [00:00<00:00, 11.73it/s]\n",
            "pixman-0.40.0        | 370 KB    | : 100% 1.0/1 [00:00<00:00, 11.62it/s]\n",
            "icu-58.2             | 10.5 MB   | : 100% 1.0/1 [00:00<00:00,  1.59it/s]               \n",
            "lz4-c-1.9.3          | 186 KB    | : 100% 1.0/1 [00:00<00:00, 10.60it/s]\n",
            "libxcb-1.14          | 505 KB    | : 100% 1.0/1 [00:00<00:00, 12.13it/s]\n",
            "pygraphviz-1.3       | 112 KB    | : 100% 1.0/1 [00:00<00:00, 14.68it/s]\n",
            "Preparing transaction: / \b\b- \b\bdone\n",
            "Verifying transaction: | \b\b/ \b\b- \b\b\\ \b\b| \b\b/ \b\b- \b\bdone\n",
            "Executing transaction: | \b\b/ \b\b- \b\b\\ \b\bdone\n",
            "Collecting package metadata (current_repodata.json): - \b\b\\ \b\b| \b\b/ \b\b- \b\b\\ \b\b| \b\b/ \b\b- \b\b\\ \b\b| \b\b/ \b\b- \b\b\\ \b\b| \b\b/ \b\b- \b\b\\ \b\b| \b\b/ \b\b- \b\b\\ \b\b| \b\b/ \b\bdone\n",
            "Solving environment: \\ \b\b| \b\b/ \b\b- \b\b\\ \b\b| \b\b/ \b\b- \b\b\\ \b\b| \b\b/ \b\b- \b\b\\ \b\b| \b\b/ \b\b- \b\b\\ \b\b| \b\b/ \b\b- \b\b\\ \b\b| \b\b/ \b\b- \b\b\\ \b\b| \b\b/ \b\b- \b\b\\ \b\b| \b\b/ \b\b- \b\b\\ \b\b| \b\b/ \b\b- \b\b\\ \b\b| \b\b/ \b\b- \b\b\\ \b\b| \b\b/ \b\b- \b\b\\ \b\b| \b\b/ \b\b- \b\b\\ \b\b| \b\b/ \b\b- \b\b\\ \b\b| \b\b/ \b\b- \b\b\\ \b\bdone\n",
            "\n",
            "## Package Plan ##\n",
            "\n",
            "  environment location: /usr/local\n",
            "\n",
            "  added / updated specs:\n",
            "    - python-igraph\n",
            "\n",
            "\n",
            "The following packages will be downloaded:\n",
            "\n",
            "    package                    |            build\n",
            "    ---------------------------|-----------------\n",
            "    _openmp_mutex-4.5          |            1_gnu          22 KB\n",
            "    arpack-3.7.0               |       hc6cf775_2         222 KB  conda-forge\n",
            "    glpk-4.65                  |    h9202a9a_1004         1.0 MB  conda-forge\n",
            "    gmp-6.2.1                  |       h58526e2_0         806 KB  conda-forge\n",
            "    libgcc-ng-9.3.0            |      h5101ec6_17         4.8 MB\n",
            "    libgomp-9.3.0              |      h5101ec6_17         311 KB\n",
            "    libstdcxx-ng-9.3.0         |      h6de172a_19         4.0 MB  conda-forge\n",
            "    metis-5.1.0                |    h58526e2_1006         4.1 MB  conda-forge\n",
            "    mpfr-4.0.2                 |       he80fd80_1         648 KB  conda-forge\n",
            "    openssl-1.1.1k             |       h7f98852_0         2.1 MB  conda-forge\n",
            "    python-igraph-0.9.1        |   py37h6c76e3a_0         1.2 MB  conda-forge\n",
            "    suitesparse-5.10.1         |       hd8046ac_0         2.4 MB  conda-forge\n",
            "    tbb-2020.2                 |       h4bd325d_4         1.5 MB  conda-forge\n",
            "    texttable-1.6.3            |     pyh9f0ad1d_0          15 KB  conda-forge\n",
            "    ------------------------------------------------------------\n",
            "                                           Total:        23.2 MB\n",
            "\n",
            "The following NEW packages will be INSTALLED:\n",
            "\n",
            "  _openmp_mutex      pkgs/main/linux-64::_openmp_mutex-4.5-1_gnu\n",
            "  arpack             conda-forge/linux-64::arpack-3.7.0-hc6cf775_2\n",
            "  glpk               conda-forge/linux-64::glpk-4.65-h9202a9a_1004\n",
            "  gmp                conda-forge/linux-64::gmp-6.2.1-h58526e2_0\n",
            "  libgomp            pkgs/main/linux-64::libgomp-9.3.0-h5101ec6_17\n",
            "  metis              conda-forge/linux-64::metis-5.1.0-h58526e2_1006\n",
            "  mpfr               conda-forge/linux-64::mpfr-4.0.2-he80fd80_1\n",
            "  python-igraph      conda-forge/linux-64::python-igraph-0.9.1-py37h6c76e3a_0\n",
            "  suitesparse        conda-forge/linux-64::suitesparse-5.10.1-hd8046ac_0\n",
            "  tbb                conda-forge/linux-64::tbb-2020.2-h4bd325d_4\n",
            "  texttable          conda-forge/noarch::texttable-1.6.3-pyh9f0ad1d_0\n",
            "\n",
            "The following packages will be UPDATED:\n",
            "\n",
            "  ca-certificates    pkgs/main::ca-certificates-2021.5.25-~ --> conda-forge::ca-certificates-2021.5.30-ha878542_0\n",
            "  libgcc-ng                                9.1.0-hdf63c60_0 --> 9.3.0-h5101ec6_17\n",
            "  libstdcxx-ng       pkgs/main::libstdcxx-ng-9.1.0-hdf63c6~ --> conda-forge::libstdcxx-ng-9.3.0-h6de172a_19\n",
            "\n",
            "The following packages will be SUPERSEDED by a higher-priority channel:\n",
            "\n",
            "  certifi            pkgs/main::certifi-2021.5.30-py37h06a~ --> conda-forge::certifi-2021.5.30-py37h89c1867_0\n",
            "  conda              pkgs/main::conda-4.10.1-py37h06a4308_1 --> conda-forge::conda-4.10.1-py37h89c1867_0\n",
            "  openssl              pkgs/main::openssl-1.1.1k-h27cfd23_0 --> conda-forge::openssl-1.1.1k-h7f98852_0\n",
            "\n",
            "\n",
            "\n",
            "Downloading and Extracting Packages\n",
            "texttable-1.6.3      | 15 KB     | : 100% 1.0/1 [00:00<00:00,  7.72it/s]\n",
            "libgcc-ng-9.3.0      | 4.8 MB    | : 100% 1.0/1 [00:00<00:00,  2.39it/s]\n",
            "libstdcxx-ng-9.3.0   | 4.0 MB    | : 100% 1.0/1 [00:00<00:00,  1.38it/s]\n",
            "libgomp-9.3.0        | 311 KB    | : 100% 1.0/1 [00:00<00:00, 11.27it/s]\n",
            "tbb-2020.2           | 1.5 MB    | : 100% 1.0/1 [00:00<00:00,  2.67it/s]\n",
            "python-igraph-0.9.1  | 1.2 MB    | : 100% 1.0/1 [00:00<00:00,  2.27it/s]\n",
            "arpack-3.7.0         | 222 KB    | : 100% 1.0/1 [00:00<00:00, 10.17it/s]\n",
            "_openmp_mutex-4.5    | 22 KB     | : 100% 1.0/1 [00:00<00:00, 31.12it/s]\n",
            "openssl-1.1.1k       | 2.1 MB    | : 100% 1.0/1 [00:00<00:00,  2.46it/s]\n",
            "gmp-6.2.1            | 806 KB    | : 100% 1.0/1 [00:00<00:00,  4.96it/s]\n",
            "glpk-4.65            | 1.0 MB    | : 100% 1.0/1 [00:00<00:00,  3.22it/s]\n",
            "metis-5.1.0          | 4.1 MB    | : 100% 1.0/1 [00:00<00:00,  1.36it/s]\n",
            "mpfr-4.0.2           | 648 KB    | : 100% 1.0/1 [00:00<00:00,  3.32it/s]\n",
            "suitesparse-5.10.1   | 2.4 MB    | : 100% 1.0/1 [00:00<00:00,  1.80it/s]\n",
            "Preparing transaction: / \b\bdone\n",
            "Verifying transaction: \\ \b\b| \b\bdone\n",
            "Executing transaction: - \b\b\\ \b\b| \b\b/ \b\b- \b\b\\ \b\bdone\n",
            "Cloning into 'D-VAE'...\n",
            "remote: Enumerating objects: 941, done.\u001b[K\n",
            "remote: Counting objects: 100% (3/3), done.\u001b[K\n",
            "remote: Compressing objects: 100% (3/3), done.\u001b[K\n",
            "remote: Total 941 (delta 0), reused 1 (delta 0), pack-reused 938\u001b[K\n",
            "Receiving objects: 100% (941/941), 13.34 MiB | 12.32 MiB/s, done.\n",
            "Resolving deltas: 100% (118/118), done.\n"
          ],
          "name": "stdout"
        }
      ]
    },
    {
      "cell_type": "code",
      "metadata": {
        "colab": {
          "base_uri": "https://localhost:8080/"
        },
        "id": "e_Jgf_HfLbwM",
        "outputId": "d0cd34e1-4c6c-4176-d875-4605c8c07174"
      },
      "source": [
        "import os \n",
        "print(os.getcwd()) \n",
        "if not os.getcwd()=='/content/D-VAE': \n",
        "  os.chdir('./D-VAE') \n",
        "print(os.getcwd())"
      ],
      "execution_count": 2,
      "outputs": [
        {
          "output_type": "stream",
          "text": [
            "/content\n",
            "/content/D-VAE\n"
          ],
          "name": "stdout"
        }
      ]
    },
    {
      "cell_type": "code",
      "metadata": {
        "id": "eGqfXDupYtBf"
      },
      "source": [
        "#train(data-name='final_structures6')#,save-interval=100,save-appendix='_DVAE',epochs=300,lr=1e-4,model='DVAE',bidirectional=true,nz=56,batch-size=32)"
      ],
      "execution_count": 8,
      "outputs": []
    },
    {
      "cell_type": "code",
      "metadata": {
        "id": "_HT4_L_pY3Kz"
      },
      "source": [
        "#train.py --data-name final_structures6 --save-interval 100 --save-appendix _DVAE --epochs 300 --lr 1e-4 --model DVAE --bidirectional --nz 56 --batch-size 32"
      ],
      "execution_count": 9,
      "outputs": []
    },
    {
      "cell_type": "code",
      "metadata": {
        "id": "vAMWUMpgdFAH"
      },
      "source": [
        "#import argparse"
      ],
      "execution_count": 10,
      "outputs": []
    },
    {
      "cell_type": "code",
      "metadata": {
        "id": "sc6mA5yidJGk"
      },
      "source": [
        "#parser = argparse.ArgumentParser()\n",
        "#parser.add_argument(\"echo\")\n",
        "#args = parser.parse_args()\n",
        "#print(args.echo)"
      ],
      "execution_count": 11,
      "outputs": []
    },
    {
      "cell_type": "code",
      "metadata": {
        "id": "nslWdzcuePAt"
      },
      "source": [
        "#import sys\n",
        "#args = sys.argv[1:]"
      ],
      "execution_count": 12,
      "outputs": []
    },
    {
      "cell_type": "code",
      "metadata": {
        "colab": {
          "base_uri": "https://localhost:8080/"
        },
        "id": "O4vrEsMGeUQA",
        "outputId": "59ce7712-747f-4e2e-e548-bfeb05045f5c"
      },
      "source": [
        "run train.py --data-name final_structures6 --save-interval 100 --save-appendix _DVAE --epochs 300 --lr 1e-4 --model DVAE --bidirectional --nz 56 --batch-size 32"
      ],
      "execution_count": null,
      "outputs": [
        {
          "output_type": "stream",
          "text": [
            "1890it [00:00, 18884.53it/s]"
          ],
          "name": "stderr"
        },
        {
          "output_type": "stream",
          "text": [
            "Namespace(all_gpus=False, batch_size=32, bidirectional=True, continue_from=None, cuda=False, data_name='final_structures6', data_type='ENAS', epochs=300, hs=501, infer_batch_size=128, keep_old=False, load_latest_model=False, lr=0.0001, model='DVAE', no_cuda=False, no_test=False, nvt=6, nz=56, only_test=False, predictor=False, reprocess=False, sample_number=20, save_appendix='_DVAE', save_interval=100, seed=1, small_train=False)\n"
          ],
          "name": "stdout"
        },
        {
          "output_type": "stream",
          "text": [
            "20020it [00:02, 8772.13it/s]\n"
          ],
          "name": "stderr"
        },
        {
          "output_type": "stream",
          "text": [
            "# node types: 8\n",
            "maximum # nodes: 8\n",
            "Command line input: python train.py --data-name final_structures6 --save-interval 100 --save-appendix _DVAE --epochs 300 --lr 1e-4 --model DVAE --bidirectional --nz 56 --batch-size 32\n",
            " is saved.\n"
          ],
          "name": "stdout"
        },
        {
          "output_type": "stream",
          "text": [
            "Epoch: 1, loss: 18.6593, recon: 18.6496, kld: 1.9539: 100%|██████████| 17118/17118 [10:51<00:00, 26.29it/s]\n",
            "  0%|          | 0/17118 [00:00<?, ?it/s]"
          ],
          "name": "stderr"
        },
        {
          "output_type": "stream",
          "text": [
            "====> Epoch: 1 Average loss: 20.5411\n"
          ],
          "name": "stdout"
        },
        {
          "output_type": "stream",
          "text": [
            "Epoch: 2, loss: 16.5319, recon: 16.5180, kld: 2.7808: 100%|██████████| 17118/17118 [10:58<00:00, 25.99it/s]\n",
            "  0%|          | 0/17118 [00:00<?, ?it/s]"
          ],
          "name": "stderr"
        },
        {
          "output_type": "stream",
          "text": [
            "====> Epoch: 2 Average loss: 17.7658\n"
          ],
          "name": "stdout"
        },
        {
          "output_type": "stream",
          "text": [
            "Epoch: 3, loss: 16.3412, recon: 16.3301, kld: 2.2290: 100%|██████████| 17118/17118 [11:52<00:00, 24.02it/s]\n",
            "  0%|          | 0/17118 [00:00<?, ?it/s]"
          ],
          "name": "stderr"
        },
        {
          "output_type": "stream",
          "text": [
            "====> Epoch: 3 Average loss: 16.5412\n"
          ],
          "name": "stdout"
        },
        {
          "output_type": "stream",
          "text": [
            "Epoch: 4, loss: 15.4192, recon: 15.4081, kld: 2.2182: 100%|██████████| 17118/17118 [13:56<00:00, 20.48it/s]\n",
            "  0%|          | 0/17118 [00:00<?, ?it/s]"
          ],
          "name": "stderr"
        },
        {
          "output_type": "stream",
          "text": [
            "====> Epoch: 4 Average loss: 15.6411\n"
          ],
          "name": "stdout"
        },
        {
          "output_type": "stream",
          "text": [
            "Epoch: 5, loss: 14.9175, recon: 14.9080, kld: 1.9107: 100%|██████████| 17118/17118 [14:37<00:00, 19.51it/s]\n",
            "  0%|          | 0/17118 [00:00<?, ?it/s]"
          ],
          "name": "stderr"
        },
        {
          "output_type": "stream",
          "text": [
            "====> Epoch: 5 Average loss: 14.9693\n"
          ],
          "name": "stdout"
        },
        {
          "output_type": "stream",
          "text": [
            "Epoch: 6, loss: 14.5554, recon: 14.5436, kld: 2.3649: 100%|██████████| 17118/17118 [15:28<00:00, 18.43it/s]\n",
            "  0%|          | 0/17118 [00:00<?, ?it/s]"
          ],
          "name": "stderr"
        },
        {
          "output_type": "stream",
          "text": [
            "====> Epoch: 6 Average loss: 14.5695\n"
          ],
          "name": "stdout"
        },
        {
          "output_type": "stream",
          "text": [
            "Epoch: 7, loss: 14.0759, recon: 14.0633, kld: 2.5174: 100%|██████████| 17118/17118 [16:37<00:00, 17.17it/s]\n",
            "  0%|          | 0/17118 [00:00<?, ?it/s]"
          ],
          "name": "stderr"
        },
        {
          "output_type": "stream",
          "text": [
            "====> Epoch: 7 Average loss: 14.2979\n"
          ],
          "name": "stdout"
        },
        {
          "output_type": "stream",
          "text": [
            "Epoch: 8, loss: 14.5477, recon: 14.5346, kld: 2.6266: 100%|██████████| 17118/17118 [17:06<00:00, 16.67it/s]\n",
            "  0%|          | 0/17118 [00:00<?, ?it/s]"
          ],
          "name": "stderr"
        },
        {
          "output_type": "stream",
          "text": [
            "====> Epoch: 8 Average loss: 14.1276\n"
          ],
          "name": "stdout"
        },
        {
          "output_type": "stream",
          "text": [
            "Epoch: 9, loss: 13.4811, recon: 13.4649, kld: 3.2431: 100%|██████████| 17118/17118 [16:59<00:00, 16.80it/s]\n",
            "  0%|          | 0/17118 [00:00<?, ?it/s]"
          ],
          "name": "stderr"
        },
        {
          "output_type": "stream",
          "text": [
            "====> Epoch: 9 Average loss: 13.8558\n"
          ],
          "name": "stdout"
        },
        {
          "output_type": "stream",
          "text": [
            "Epoch: 10, loss: 13.1099, recon: 13.0926, kld: 3.4437: 100%|██████████| 17118/17118 [16:23<00:00, 17.40it/s]\n",
            "  0%|          | 0/17118 [00:00<?, ?it/s]"
          ],
          "name": "stderr"
        },
        {
          "output_type": "stream",
          "text": [
            "====> Epoch: 10 Average loss: 13.6932\n"
          ],
          "name": "stdout"
        },
        {
          "output_type": "stream",
          "text": [
            "Epoch: 11, loss: 13.7140, recon: 13.6970, kld: 3.4079: 100%|██████████| 17118/17118 [16:19<00:00, 17.48it/s]\n",
            "  0%|          | 0/17118 [00:00<?, ?it/s]"
          ],
          "name": "stderr"
        },
        {
          "output_type": "stream",
          "text": [
            "====> Epoch: 11 Average loss: 13.4769\n"
          ],
          "name": "stdout"
        },
        {
          "output_type": "stream",
          "text": [
            "Epoch: 12, loss: 13.0175, recon: 12.9997, kld: 3.5563: 100%|██████████| 17118/17118 [16:32<00:00, 17.24it/s]\n",
            "  0%|          | 0/17118 [00:00<?, ?it/s]"
          ],
          "name": "stderr"
        },
        {
          "output_type": "stream",
          "text": [
            "====> Epoch: 12 Average loss: 13.2894\n"
          ],
          "name": "stdout"
        },
        {
          "output_type": "stream",
          "text": [
            "Epoch: 13, loss: 12.7561, recon: 12.7387, kld: 3.4913: 100%|██████████| 17118/17118 [16:12<00:00, 17.60it/s]\n",
            "  0%|          | 0/17118 [00:00<?, ?it/s]"
          ],
          "name": "stderr"
        },
        {
          "output_type": "stream",
          "text": [
            "====> Epoch: 13 Average loss: 13.0552\n"
          ],
          "name": "stdout"
        },
        {
          "output_type": "stream",
          "text": [
            "Epoch: 14, loss: 13.8857, recon: 13.8673, kld: 3.6870: 100%|██████████| 17118/17118 [15:57<00:00, 17.88it/s]\n",
            "  0%|          | 0/17118 [00:00<?, ?it/s]"
          ],
          "name": "stderr"
        },
        {
          "output_type": "stream",
          "text": [
            "====> Epoch: 14 Average loss: 12.7688\n"
          ],
          "name": "stdout"
        },
        {
          "output_type": "stream",
          "text": [
            "Epoch: 15, loss: 12.7259, recon: 12.7032, kld: 4.5476: 100%|██████████| 17118/17118 [16:02<00:00, 17.78it/s]\n",
            "  0%|          | 0/17118 [00:00<?, ?it/s]"
          ],
          "name": "stderr"
        },
        {
          "output_type": "stream",
          "text": [
            "====> Epoch: 15 Average loss: 12.7015\n"
          ],
          "name": "stdout"
        },
        {
          "output_type": "stream",
          "text": [
            "Epoch: 16, loss: 12.5285, recon: 12.5050, kld: 4.6957:  26%|██▋       | 4512/17118 [04:13<11:38, 18.05it/s]"
          ],
          "name": "stderr"
        }
      ]
    },
    {
      "cell_type": "markdown",
      "metadata": {
        "id": "f1rrUPQ0S3wb"
      },
      "source": [
        "Now we have our new dependencies installed and we can import all the dependencies"
      ]
    },
    {
      "cell_type": "code",
      "metadata": {
        "id": "RPcFSBPHSvTo"
      },
      "source": [
        "from __future__ import print_function\n",
        "import os\n",
        "import sys\n",
        "import math\n",
        "import pickle\n",
        "import pdb\n",
        "import argparse\n",
        "import random\n",
        "from tqdm import tqdm\n",
        "from shutil import copy\n",
        "import torch\n",
        "from torch import nn, optim\n",
        "from torch.optim.lr_scheduler import ReduceLROnPlateau\n",
        "import numpy as np\n",
        "import scipy.io\n",
        "from scipy.linalg import qr \n",
        "import igraph\n",
        "from random import shuffle\n",
        "import matplotlib\n",
        "matplotlib.use('agg')\n",
        "import matplotlib.pyplot as plt\n",
        "import matplotlib.image as mpimg\n",
        "from util import *\n",
        "from models import *\n",
        "from bayesian_optimization.evaluate_BN import Eval_BN"
      ],
      "execution_count": null,
      "outputs": []
    },
    {
      "cell_type": "markdown",
      "metadata": {
        "id": "SeI5roieUqKn"
      },
      "source": [
        "We need to set some parameters. \n",
        "For backwards compatibility we use argparse like they did in the original python script. I would not recommend their method as a way of functionalizing scripts since it requires the \"run\" function and command line syntax which is hard to programmatically modify. "
      ]
    },
    {
      "cell_type": "code",
      "metadata": {
        "id": "hjok9cy8TLLX"
      },
      "source": [
        "# set default arguments\n",
        "parser = argparse.ArgumentParser(description='Train Variational Autoencoders for DAGs')\n",
        "args = parser.parse_args() # there are no args at this point\n",
        "# general settings\n",
        "args.data_type='ENAS' # ENAS: ENAS-format CNN structures; BN: Bayesian networks\n",
        "args.data_name='final_structures6' # graph dataset name\n",
        "args.nvt=6 # number of different node types, 6 for final_structures6, 8 for asia_200k\n",
        "args.save_appendix=''  # what to append to data-name as save-name for results\n",
        "args.save_interval=100 # how many epochs to wait each time to save model states\n",
        "args.sample_number=20 # how many samples to generate each time\n",
        "args.no_test=False # if True, merge test with train, i.e., no held-out set\n",
        "args.reprocess=False # if True, reprocess data instead of using prestored .pkl data\n",
        "args.keep_old=False # if True, do not remove any old data in the result folder\n",
        "args.only_test=False # if True, perform some experiments without training the model\n",
        "args.small_train=False # if True, use a smaller version of train set\n",
        "# model settings\n",
        "args.model='DVAE' # model to use: DVAE, SVAE, DVAE_fast, DVAE_BN, SVAE_oneshot, DVAE_GCN\n",
        "args.load_latest_model=False # whether to load latest_model.pth\n",
        "args.continue_from=None  # from which epoch's checkpoint to continue training\")\n",
        "args.hs=501 # hidden size of GRUs\n",
        "args.nz=56 # number of dimensions of latent vectors z\n",
        "args.bidirectional=False # whether to use bidirectional encoding\n",
        "args.predictor=False # whether to train a performance predictor from latent encodings and a VAE at the same time\n",
        "# optimization settings\n",
        "args.lr=1e-4 # learning rate (default: 1e-4)\n",
        "args.epochs=100000 # number of epochs to train\n",
        "args.batch_size=32 # batch size during training\n",
        "args.infer_batch_size=128 # batch size during inference\n",
        "args.no_cuda=False # disables CUDA training\n",
        "args.all_gpus=False # use all available GPUs\n",
        "args.seed:1 # random seed (default: 1)"
      ],
      "execution_count": null,
      "outputs": []
    },
    {
      "cell_type": "code",
      "metadata": {
        "id": "8kR3A4snakIk"
      },
      "source": [
        "# Prepare data\n",
        "\n",
        "args.file_dir = os.path.dirname(os.path.realpath('__file__'))\n",
        "args.res_dir = os.path.join(args.file_dir, 'results/{}{}'.format(args.data_name, \n",
        "                                                                 args.save_appendix))\n",
        "if not os.path.exists(args.res_dir):\n",
        "    os.makedirs(args.res_dir) \n",
        "\n",
        "pkl_name = os.path.join(args.res_dir, args.data_name + '.pkl')\n",
        "\n",
        "# check whether to load pre-stored pickle data\n",
        "if os.path.isfile(pkl_name) and not args.reprocess:\n",
        "    with open(pkl_name, 'rb') as f:\n",
        "        train_data, test_data, graph_args = pickle.load(f)\n",
        "# otherwise process the raw data and save to .pkl\n",
        "else:\n",
        "    # determine data formats according to models, DVAE: igraph, SVAE: string (as tensors)\n",
        "    if args.model.startswith('DVAE'):\n",
        "        input_fmt = 'igraph'\n",
        "    elif args.model.startswith('SVAE'):\n",
        "        input_fmt = 'string'\n",
        "    if args.data_type == 'ENAS':\n",
        "        train_data, test_data, graph_args = load_ENAS_graphs(args.data_name, n_types=args.nvt,\n",
        "                                                             fmt=input_fmt)\n",
        "    elif args.data_type == 'BN':\n",
        "        train_data, test_data, graph_args = load_BN_graphs(args.data_name, n_types=args.nvt,\n",
        "                                                           fmt=input_fmt)\n",
        "    with open(pkl_name, 'wb') as f:\n",
        "        pickle.dump((train_data, test_data, graph_args), f)\n",
        "\n",
        "# delete old files in the result directory\n",
        "remove_list = [f for f in os.listdir(args.res_dir) if not f.endswith(\".pkl\") and \n",
        "        not f.startswith('train_graph') and not f.startswith('test_graph') and\n",
        "        not f.endswith('.pth')]\n",
        "for f in remove_list:\n",
        "    tmp = os.path.join(args.res_dir, f)\n",
        "    if not os.path.isdir(tmp) and not args.keep_old:\n",
        "        os.remove(tmp)\n",
        "\n",
        "if not args.keep_old:\n",
        "    # backup current .py files\n",
        "    copy('train.py', args.res_dir)\n",
        "    copy('models.py', args.res_dir)\n",
        "    copy('util.py', args.res_dir)\n",
        "\n",
        "# construct train data\n",
        "if args.no_test:\n",
        "    train_data = train_data + test_data\n",
        "\n",
        "if args.small_train:\n",
        "    train_data = train_data[:100]"
      ],
      "execution_count": null,
      "outputs": []
    },
    {
      "cell_type": "code",
      "metadata": {
        "id": "t_DLOmISbOB1"
      },
      "source": [
        "'''Prepare the model'''\n",
        "# model\n",
        "model = eval(args.model)(\n",
        "        graph_args.max_n, \n",
        "        graph_args.num_vertex_type, \n",
        "        graph_args.START_TYPE, \n",
        "        graph_args.END_TYPE, \n",
        "        hs=args.hs, \n",
        "        nz=args.nz, \n",
        "        bidirectional=args.bidirectional\n",
        "        )\n",
        "if args.predictor:\n",
        "    predictor = nn.Sequential(\n",
        "            nn.Linear(args.nz, args.hs), \n",
        "            nn.Tanh(), \n",
        "            nn.Linear(args.hs, 1)\n",
        "            )\n",
        "    model.predictor = predictor\n",
        "    model.mseloss = nn.MSELoss(reduction='sum')\n",
        "# optimizer and scheduler\n",
        "optimizer = optim.Adam(model.parameters(), lr=args.lr)\n",
        "scheduler = ReduceLROnPlateau(optimizer, 'min', factor=0.1, patience=10, verbose=True)\n",
        "\n",
        "model.to(device)\n",
        "\n",
        "if args.all_gpus:\n",
        "    net = custom_DataParallel(model, device_ids=range(torch.cuda.device_count()))\n",
        "\n",
        "if args.load_latest_model:\n",
        "    load_module_state(model, os.path.join(args.res_dir, 'latest_model.pth'))\n",
        "else:\n",
        "    if args.continue_from is not None:\n",
        "        epoch = args.continue_from\n",
        "        load_module_state(model, os.path.join(args.res_dir, \n",
        "                                              'model_checkpoint{}.pth'.format(epoch)))\n",
        "        load_module_state(optimizer, os.path.join(args.res_dir, \n",
        "                                                  'optimizer_checkpoint{}.pth'.format(epoch)))\n",
        "        load_module_state(scheduler, os.path.join(args.res_dir, \n",
        "                                                  'scheduler_checkpoint{}.pth'.format(epoch)))\n",
        "\n",
        "# plot sample train/test graphs\n",
        "if not os.path.exists(os.path.join(args.res_dir, 'train_graph_id0.pdf')) or args.reprocess:\n",
        "    if not args.keep_old:\n",
        "        for data in ['train_data', 'test_data']:\n",
        "            G = [g for g, y in eval(data)[:10]]\n",
        "            if args.model.startswith('SVAE'):\n",
        "                G = [g.to(device) for g in G]\n",
        "                G = model._collate_fn(G)\n",
        "                G = model.construct_igraph(G[:, :, :model.nvt], G[:, :, model.nvt:], False)\n",
        "            for i, g in enumerate(G):\n",
        "                name = '{}_graph_id{}'.format(data[:-5], i)\n",
        "                plot_DAG(g, args.res_dir, name, data_type=args.data_type)"
      ],
      "execution_count": null,
      "outputs": []
    }
  ]
}